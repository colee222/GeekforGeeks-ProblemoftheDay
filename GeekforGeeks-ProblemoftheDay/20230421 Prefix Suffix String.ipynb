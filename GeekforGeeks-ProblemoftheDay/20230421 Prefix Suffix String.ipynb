{
 "cells": [
  {
   "cell_type": "markdown",
   "metadata": {},
   "source": [
    "You are given an array arr of n integers. For each index i, you have to find the sum of all integers present in the array with a value less than arr[i]."
   ]
  },
  {
   "cell_type": "markdown",
   "metadata": {},
   "source": [
    "Expected Approach:\n",
    "Intuition:\n",
    "\n",
    "Create a copy of the input array/vector and sort it in ascending order using the sort() function. This allows us to easily find the largest element in the array/vector that is less than or equal to a given element arr[i].\n",
    "\n",
    "NB: I did this but ran into a problem with the ability for the dorted array to be called in a for loop: \n",
    "TypeError: 'NoneType' object is not subscriptable\n",
    "\n",
    "\n",
    "Implementation:\n",
    "\n",
    "    Create an empty vector tmp and copy the elements of arr into it.\n",
    "    Sort the vector tmp.\n",
    "    Create a new vector pre that has the same elements as tmp, and calculate the prefix sum of pre using a loop that adds each element of pre to the sum of the previous elements.\n",
    "    Loop through each element arr[i] of the input array \n",
    "    Use the lower_bound() function from the C++ standard library to find the first element in tmp that is greater than or equal to arr[i].\n",
    "    If lower_bound() returns tmp.begin(), set ans[i] to 0, since there are no elements in tmp that are less than arr[i].\n",
    "    Otherwise, decrement the iterator returned by lower_bound() to get the largest element in tmp that is less than arr[i], and use the difference between the index of this element in tmp and the beginning of tmp to find the corresponding prefix sum in pre.\n",
    "    Store this value in ans[i].return the vector ans."
   ]
  },
  {
   "cell_type": "code",
   "execution_count": 41,
   "metadata": {},
   "outputs": [],
   "source": [
    "def short(arr):\n",
    "    result = []\n",
    "    for i in range(len(arr)):\n",
    "        sum = 0\n",
    "        for j in range(len(arr)):\n",
    "            print('i: {}, j: {}'.format(i,j))\n",
    "            print('arr[i]: {}, arr[j]: {}'.format(arr[i],arr[j]))\n",
    "            if arr[j] < arr[i]:\n",
    "                sum += arr[j]\n",
    "        result.append(sum)\n",
    "    return result"
   ]
  },
  {
   "cell_type": "code",
   "execution_count": 42,
   "metadata": {},
   "outputs": [
    {
     "name": "stdout",
     "output_type": "stream",
     "text": [
      "i: 0, j: 0\n",
      "arr[i]: 8, arr[j]: 8\n",
      "i: 0, j: 1\n",
      "arr[i]: 8, arr[j]: 9\n",
      "i: 0, j: 2\n",
      "arr[i]: 8, arr[j]: 1\n",
      "i: 0, j: 3\n",
      "arr[i]: 8, arr[j]: 4\n",
      "i: 1, j: 0\n",
      "arr[i]: 9, arr[j]: 8\n",
      "i: 1, j: 1\n",
      "arr[i]: 9, arr[j]: 9\n",
      "i: 1, j: 2\n",
      "arr[i]: 9, arr[j]: 1\n",
      "i: 1, j: 3\n",
      "arr[i]: 9, arr[j]: 4\n",
      "i: 2, j: 0\n",
      "arr[i]: 1, arr[j]: 8\n",
      "i: 2, j: 1\n",
      "arr[i]: 1, arr[j]: 9\n",
      "i: 2, j: 2\n",
      "arr[i]: 1, arr[j]: 1\n",
      "i: 2, j: 3\n",
      "arr[i]: 1, arr[j]: 4\n",
      "i: 3, j: 0\n",
      "arr[i]: 4, arr[j]: 8\n",
      "i: 3, j: 1\n",
      "arr[i]: 4, arr[j]: 9\n",
      "i: 3, j: 2\n",
      "arr[i]: 4, arr[j]: 1\n",
      "i: 3, j: 3\n",
      "arr[i]: 4, arr[j]: 4\n"
     ]
    },
    {
     "data": {
      "text/plain": [
       "[5, 13, 0, 1]"
      ]
     },
     "execution_count": 42,
     "metadata": {},
     "output_type": "execute_result"
    }
   ],
   "source": [
    "short([8,9,1,4])"
   ]
  },
  {
   "cell_type": "code",
   "execution_count": 43,
   "metadata": {},
   "outputs": [
    {
     "name": "stdout",
     "output_type": "stream",
     "text": [
      "[8, 9, 1, 4]\n",
      "[1, 4, 8, 9]\n",
      "[1, 4, 8, 9]\n",
      "arr[1]: 4\n",
      "arr[2]: 8\n",
      "arr[2]: 8\n",
      "arr[3]: 9\n",
      "arr[3]: 9\n",
      "arr[3]: 9\n"
     ]
    },
    {
     "data": {
      "text/plain": [
       "[0, 1, 5, 13]"
      ]
     },
     "execution_count": 43,
     "metadata": {},
     "output_type": "execute_result"
    }
   ],
   "source": [
    "arr = [8,9,1,4]\n",
    "print(arr)\n",
    "result = []\n",
    "arr.sort()\n",
    "arrSort = arr[:] #This is the shallow copy\n",
    "print(arrSort)\n",
    "print(arr)\n",
    "\n",
    "for i in range(len(arr)):\n",
    "    sumOut = 0\n",
    "    for j in range(len(arr)):        \n",
    "        if arr[j] < arrSort[i]:\n",
    "            sumOut += arrSort[j]\n",
    "            print('arr[{}]: {}'.format(i,arr[i]))\n",
    "    result.append(sumOut)\n",
    "        \n",
    "result"
   ]
  },
  {
   "cell_type": "code",
   "execution_count": 8,
   "metadata": {},
   "outputs": [
    {
     "name": "stdout",
     "output_type": "stream",
     "text": [
      "arr[i]: {}\n"
     ]
    },
    {
     "ename": "AttributeError",
     "evalue": "'NoneType' object has no attribute 'format'",
     "output_type": "error",
     "traceback": [
      "\u001b[0;31m---------------------------------------------------------------------------\u001b[0m",
      "\u001b[0;31mAttributeError\u001b[0m                            Traceback (most recent call last)",
      "\u001b[0;32m<ipython-input-8-ef12925d47d8>\u001b[0m in \u001b[0;36m<module>\u001b[0;34m\u001b[0m\n\u001b[0;32m----> 1\u001b[0;31m \u001b[0mshort\u001b[0m\u001b[0;34m(\u001b[0m\u001b[0;34m[\u001b[0m\u001b[0;36m8\u001b[0m\u001b[0;34m,\u001b[0m\u001b[0;36m9\u001b[0m\u001b[0;34m,\u001b[0m\u001b[0;36m1\u001b[0m\u001b[0;34m,\u001b[0m\u001b[0;36m4\u001b[0m\u001b[0;34m]\u001b[0m\u001b[0;34m)\u001b[0m\u001b[0;34m\u001b[0m\u001b[0;34m\u001b[0m\u001b[0m\n\u001b[0m",
      "\u001b[0;32m<ipython-input-7-149c294d8708>\u001b[0m in \u001b[0;36mshort\u001b[0;34m(arr)\u001b[0m\n\u001b[1;32m      9\u001b[0m             \u001b[0;32mif\u001b[0m \u001b[0marr\u001b[0m\u001b[0;34m[\u001b[0m\u001b[0mi\u001b[0m\u001b[0;34m]\u001b[0m \u001b[0;34m<\u001b[0m \u001b[0marrSort\u001b[0m\u001b[0;34m[\u001b[0m\u001b[0mj\u001b[0m\u001b[0;34m]\u001b[0m\u001b[0;34m:\u001b[0m\u001b[0;34m\u001b[0m\u001b[0;34m\u001b[0m\u001b[0m\n\u001b[1;32m     10\u001b[0m                 \u001b[0msum\u001b[0m \u001b[0;34m+=\u001b[0m \u001b[0marrSort\u001b[0m\u001b[0;34m[\u001b[0m\u001b[0mj\u001b[0m\u001b[0;34m]\u001b[0m\u001b[0;34m\u001b[0m\u001b[0;34m\u001b[0m\u001b[0m\n\u001b[0;32m---> 11\u001b[0;31m                 \u001b[0mprint\u001b[0m\u001b[0;34m(\u001b[0m\u001b[0;34m'arr[i]: {}'\u001b[0m\u001b[0;34m)\u001b[0m\u001b[0;34m.\u001b[0m\u001b[0mformat\u001b[0m\u001b[0;34m(\u001b[0m\u001b[0marr\u001b[0m\u001b[0;34m[\u001b[0m\u001b[0mi\u001b[0m\u001b[0;34m]\u001b[0m\u001b[0;34m)\u001b[0m\u001b[0;34m\u001b[0m\u001b[0;34m\u001b[0m\u001b[0m\n\u001b[0m\u001b[1;32m     12\u001b[0m     \u001b[0;32mreturn\u001b[0m \u001b[0mresult\u001b[0m\u001b[0;34m\u001b[0m\u001b[0;34m\u001b[0m\u001b[0m\n",
      "\u001b[0;31mAttributeError\u001b[0m: 'NoneType' object has no attribute 'format'"
     ]
    }
   ],
   "source": [
    "short([8,9,1,4])"
   ]
  },
  {
   "cell_type": "markdown",
   "metadata": {},
   "source": [
    "This is from the author's solution, very slightly modified. "
   ]
  },
  {
   "cell_type": "code",
   "execution_count": 44,
   "metadata": {},
   "outputs": [],
   "source": [
    "from typing import List\n",
    "from bisect import bisect_left,bisect_right\n",
    "\n",
    "def smallerSum(arr):\n",
    "    tmp=[]\n",
    "    pre=[]\n",
    "    ans=[]\n",
    "    n = len(arr)\n",
    "    for i in range(n):\n",
    "        tmp.append(arr[i])\n",
    "    tmp.sort()\n",
    "    pre=tmp[:]\n",
    "    for i in range(1,n):\n",
    "        pre[i]+=pre[i-1]\n",
    "    for i in range(n):\n",
    "        lb=bisect_left(tmp,arr[i])\n",
    "        if lb==0:\n",
    "            ans.append(0)\n",
    "        else :\n",
    "            ans.append(pre[lb-1])\n",
    "    return ans"
   ]
  },
  {
   "cell_type": "code",
   "execution_count": 45,
   "metadata": {},
   "outputs": [
    {
     "data": {
      "text/plain": [
       "[3, 10, 0]"
      ]
     },
     "execution_count": 45,
     "metadata": {},
     "output_type": "execute_result"
    }
   ],
   "source": [
    "smallerSum([7,8,3])"
   ]
  },
  {
   "cell_type": "code",
   "execution_count": 53,
   "metadata": {},
   "outputs": [
    {
     "name": "stdout",
     "output_type": "stream",
     "text": [
      "temp array [7, 8, 3]\n",
      "temp array [3, 7, 8]\n",
      "pre array [3, 7, 8]\n",
      "arr [7, 8, 3]\n",
      "pre[i] value: 10\n",
      "pre[i] value: 18\n",
      "1\n",
      "2\n",
      "0\n"
     ]
    },
    {
     "data": {
      "text/plain": [
       "[3, 10, 0]"
      ]
     },
     "execution_count": 53,
     "metadata": {},
     "output_type": "execute_result"
    }
   ],
   "source": [
    "arr=[7,8,3]\n",
    "tmp=[]\n",
    "pre=[]\n",
    "ans=[]\n",
    "n = len(arr)\n",
    "for i in range(n):\n",
    "    tmp.append(arr[i])\n",
    "print('temp array {}'.format(tmp)) #not sure why this would be preferred over just using the arr Maybe this make the copy\n",
    "tmp.sort()\n",
    "pre=tmp[:] # [:] makes a shallow copy of the array\n",
    "print('temp array {}'.format(tmp))\n",
    "print('pre array {}'.format(pre))\n",
    "print('arr {}'.format(arr))\n",
    "for i in range(1,n):\n",
    "    pre[i]+=pre[i-1]\n",
    "    print('pre[i] value: {}'.format(pre[i]))\n",
    "for i in range(n):\n",
    "    lb=bisect_left(tmp,arr[i])\n",
    "    print(lb)\n",
    "    if lb==0:\n",
    "        ans.append(0)\n",
    "    else:\n",
    "        ans.append(pre[lb-1])\n",
    "        \n",
    "ans"
   ]
  },
  {
   "cell_type": "markdown",
   "metadata": {},
   "source": [
    "Things I learned: You can import other libraries. Not sure if everything has to be native to the python3 code? <br>\n",
    "What is the bisect library? "
   ]
  },
  {
   "cell_type": "markdown",
   "metadata": {},
   "source": [
    "https://docs.python.org/3/library/copy.html#module-copy <br>\n",
    "The difference between shallow and deep copying is only relevant for compound objects (objects that contain other objects, like lists or class instances):\n",
    "\n",
    "    A shallow copy constructs a new compound object and then (to the extent possible) inserts references into it to the objects found in the original.\n",
    "\n",
    "    A deep copy constructs a new compound object and then, recursively, inserts copies into it of the objects found in the original.\n"
   ]
  },
  {
   "cell_type": "code",
   "execution_count": null,
   "metadata": {},
   "outputs": [],
   "source": []
  }
 ],
 "metadata": {
  "kernelspec": {
   "display_name": "Python 3",
   "language": "python",
   "name": "python3"
  },
  "language_info": {
   "codemirror_mode": {
    "name": "ipython",
    "version": 3
   },
   "file_extension": ".py",
   "mimetype": "text/x-python",
   "name": "python",
   "nbconvert_exporter": "python",
   "pygments_lexer": "ipython3",
   "version": "3.7.3"
  }
 },
 "nbformat": 4,
 "nbformat_minor": 2
}
